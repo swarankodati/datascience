{
 "cells": [
  {
   "cell_type": "markdown",
   "id": "bf90e18d-8afd-4140-8773-dd950532d653",
   "metadata": {
    "tags": []
   },
   "source": [
    "# Data Science Tools and Ecosystem"
   ]
  },
  {
   "cell_type": "markdown",
   "id": "9d3ce80b-9f53-43a2-aa6b-2cda18d471f5",
   "metadata": {},
   "source": [
    "In this notebook, Data Science Tools and Ecosystem are summarized"
   ]
  },
  {
   "cell_type": "markdown",
   "id": "7d167117-c21a-49fe-b8ab-b57b017cc505",
   "metadata": {
    "tags": []
   },
   "source": [
    "# **Objectives:**\n",
    "* List popular languages for Data Science\n",
    "* List commonly used libraries for Data Science\n",
    "* List Data Science Tools\n",
    "* List few examples of Arithmetic expressions"
   ]
  },
  {
   "cell_type": "markdown",
   "id": "cfe91245-4094-41fd-ae8f-e26d9b0d4a45",
   "metadata": {},
   "source": [
    "Some of  the popular languages that Data Scientist use are: \n",
    "1. Python\n",
    "2. R\n",
    "3. SQL"
   ]
  },
  {
   "cell_type": "markdown",
   "id": "67d7d5dc-a161-467f-8bd6-c86acabcf9ab",
   "metadata": {},
   "source": [
    "Some of the commonly used libraries used by Data Scientists include:\n",
    "1. Matplotlib\n",
    "2. Scikit-learn\n",
    "3. NumPy\n",
    "4. Pandas"
   ]
  },
  {
   "cell_type": "markdown",
   "id": "de90f834-2344-4817-ad06-cf68df1c14db",
   "metadata": {},
   "source": [
    "|Data Science Tools|\n",
    "-------------------\n",
    "|Apache Spark|\n",
    "|Jupyter Notebook|\n",
    "|Tensorflow|"
   ]
  },
  {
   "cell_type": "markdown",
   "id": "e7456a9e-c832-4edc-8856-3590d3f9df83",
   "metadata": {
    "tags": []
   },
   "source": [
    "### Below are a few examples of evaluating arithmetic expressions in python"
   ]
  },
  {
   "cell_type": "code",
   "execution_count": 8,
   "id": "17ae95f3-195c-4079-9eb7-dd9aaf88c0d5",
   "metadata": {
    "tags": []
   },
   "outputs": [
    {
     "data": {
      "text/plain": [
       "17"
      ]
     },
     "execution_count": 8,
     "metadata": {},
     "output_type": "execute_result"
    }
   ],
   "source": [
    "#This is a simple arithmetic expression to multiply then add integers\n",
    "(3*4)+5"
   ]
  },
  {
   "cell_type": "code",
   "execution_count": 13,
   "id": "5c458226-818a-4b11-b977-8ea211af1cbc",
   "metadata": {
    "tags": []
   },
   "outputs": [
    {
     "data": {
      "text/plain": [
       "3.3333333333333335"
      ]
     },
     "execution_count": 13,
     "metadata": {},
     "output_type": "execute_result"
    }
   ],
   "source": [
    "#This will convert 200 minutes to hours by diving by 60\n",
    "200/60"
   ]
  },
  {
   "cell_type": "markdown",
   "id": "2d9fb388-1d8b-4a20-ad73-e8daa67ced4b",
   "metadata": {},
   "source": [
    "## Author\n",
    "Sai Swaran Narasimha Kodati\n"
   ]
  },
  {
   "cell_type": "code",
   "execution_count": null,
   "id": "73b4ddcd-b71a-41a2-a697-27ba4b5920f8",
   "metadata": {},
   "outputs": [],
   "source": []
  }
 ],
 "metadata": {
  "kernelspec": {
   "display_name": "Python",
   "language": "python",
   "name": "conda-env-python-py"
  },
  "language_info": {
   "codemirror_mode": {
    "name": "ipython",
    "version": 3
   },
   "file_extension": ".py",
   "mimetype": "text/x-python",
   "name": "python",
   "nbconvert_exporter": "python",
   "pygments_lexer": "ipython3",
   "version": "3.7.12"
  },
  "toc-showtags": false
 },
 "nbformat": 4,
 "nbformat_minor": 5
}
